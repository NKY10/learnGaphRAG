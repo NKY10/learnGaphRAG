{
 "cells": [
  {
   "cell_type": "code",
   "execution_count": 1,
   "id": "0ac4e769",
   "metadata": {},
   "outputs": [],
   "source": [
    "import sys\n",
    "import os\n",
    "# 添加项目根目录到Python路径\n",
    "sys.path.insert(0, os.path.join(os.getcwd(), '..'))"
   ]
  },
  {
   "cell_type": "code",
   "execution_count": null,
   "id": "12c982b2",
   "metadata": {},
   "outputs": [
    {
     "name": "stdout",
     "output_type": "stream",
     "text": [
      "连接成功！\n"
     ]
    },
    {
     "data": {
      "text/plain": [
       "True"
      ]
     },
     "execution_count": 2,
     "metadata": {},
     "output_type": "execute_result"
    }
   ],
   "source": [
    "from core.llm import get_llm\n",
    "from core.config import LLMConfig, GraphConfig\n",
    "from utils.graphDB import graphDB\n",
    "from core.schema import LLMOutput\n",
    "from langchain_text_splitters import RecursiveCharacterTextSplitter\n",
    "\n",
    "# 初始化知识库\n",
    "gdb_cfg = GraphConfig()\n",
    "gdb = graphDB(gdb_cfg)\n",
    "gdb.clear_database()"
   ]
  },
  {
   "cell_type": "code",
   "execution_count": 5,
   "id": "4f2c234f",
   "metadata": {},
   "outputs": [],
   "source": [
    "# 初始化大模型\n",
    "cfg = LLMConfig()\n",
    "llm = get_llm(cfg)\n",
    "structure_llm = llm.with_structured_output(LLMOutput)\n",
    "\n",
    "# 读取example.txt文件\n",
    "with open('example.txt', 'r') as file:\n",
    "    texts = file.read()\n",
    "\n",
    "chunks = RecursiveCharacterTextSplitter(chunk_size=2048, chunk_overlap=16).split_text(texts)\n"
   ]
  },
  {
   "cell_type": "code",
   "execution_count": 6,
   "id": "e1c425cb",
   "metadata": {},
   "outputs": [],
   "source": [
    "# 实体识别的prompts\n",
    "prompt = \"\"\"\n",
    "## 任务\n",
    "请你担任一名专业的知识提取和组织专家，任务是从给定的文本中提取实体关系信息及其描述，用于构建知识图谱\n",
    "## 输出格式\n",
    "按照LLMOutput的格式组织。\n",
    "## 要求\n",
    "实体类型包括：人物、组织、地点、事件、概念等。\n",
    "关系类型包括：人物之间的关系、组织之间的关系、地点之间的关系、事件之间的关系、概念之间的关系等。\n",
    "关系描述中包含关系的强度、方向等信息。\n",
    "## 注意：\n",
    "1. 实体描述中是对实体自身的描述，不能包含关系描述。\n",
    "2. 关系描述中是对实体之间的关系描述，而不是实体的信息。\n",
    "文本内容：{}\n",
    "\"\"\"\n"
   ]
  },
  {
   "cell_type": "code",
   "execution_count": 7,
   "id": "99ca8e67",
   "metadata": {},
   "outputs": [],
   "source": [
    "ret = structure_llm.invoke(prompt.format(chunks[0]))"
   ]
  },
  {
   "cell_type": "code",
   "execution_count": 8,
   "id": "43031814",
   "metadata": {},
   "outputs": [
    {
     "data": {
      "text/plain": [
       "ExtractEntity(entity_name='林墨', entity_type='人物', entity_description='林墨是小说《雨夜迷踪》的女主角，是林夜的妹妹，性格敏感细腻，对哥哥的失踪极度焦虑。她对哥哥的失踪怀有强烈的情感执念，是推动故事发展的核心人物。')"
      ]
     },
     "execution_count": 8,
     "metadata": {},
     "output_type": "execute_result"
    }
   ],
   "source": [
    "ret.entities[0]"
   ]
  },
  {
   "cell_type": "code",
   "execution_count": 10,
   "id": "1708f394",
   "metadata": {},
   "outputs": [],
   "source": [
    "from settings.schema import Entity,Relation,convert2entity,convert2relation"
   ]
  },
  {
   "cell_type": "code",
   "execution_count": 11,
   "id": "9199bf14",
   "metadata": {},
   "outputs": [],
   "source": [
    "entities = []\n",
    "relations = []\n",
    "for i in range(len(ret.entities)):\n",
    "    entities.append(convert2entity(ret.entities[i],{\"text_unit_ids\":[i]}))\n",
    "for i in range(len(ret.relations)):\n",
    "    relations.append(convert2relation(ret.relations[i],{\"text_unit_ids\":[i]}))"
   ]
  },
  {
   "cell_type": "code",
   "execution_count": 12,
   "id": "cd04bee2",
   "metadata": {},
   "outputs": [
    {
     "data": {
      "text/plain": [
       "([Entity(entity_name='林墨', entity_type='人物', entity_description='林墨是小说《雨夜迷踪》的女主角，是林夜的妹妹，性格敏感细腻，对哥哥的失踪极度焦虑。她对哥哥的失踪怀有强烈的情感执念，是推动故事发展的核心人物。', name_embedding=None, description_embedding=None, text_unit_ids=[0]),\n",
       "  Entity(entity_name='林夜', entity_type='人物', entity_description='林夜是林墨的哥哥，一名画家，三个月前在雨夜神秘失踪。他生前曾多次前往青山精神病院，其画作风格独特，作品中隐含着与双胞胎秘密相关的线索。', name_embedding=None, description_embedding=None, text_unit_ids=[1]),\n",
       "  Entity(entity_name='陈远', entity_type='人物', entity_description='陈远是市刑警队的法医，三十出头，是林墨的男友。他专业严谨，对案件调查投入极大精力，是林墨在寻找哥哥下落过程中的主要支持者和调查合作者。', name_embedding=None, description_embedding=None, text_unit_ids=[2]),\n",
       "  Entity(entity_name='王德明', entity_type='人物', entity_description='王德明是退休的老医生，曾为林墨的母亲接生。他年逾八旬，记忆清晰，掌握着关于林墨与林夜双胞胎身份的关键信息，内心充满愧疚。', name_embedding=None, description_embedding=None, text_unit_ids=[3]),\n",
       "  Entity(entity_name='青山精神病院', entity_type='地点', entity_description='青山精神病院是一座位于城郊的废弃建筑，十年前曾发生严重火灾，造成十余人死亡。建筑现已破败不堪，但内部地下室却意外保存完好，成为关键线索的发现地。', name_embedding=None, description_embedding=None, text_unit_ids=[4]),\n",
       "  Entity(entity_name='林夜的工作室', entity_type='地点', entity_description='林夜的工作室位于城西老式小区，是他用第一幅获奖作品奖金购买的居所。曾是兄妹童年乐园，现藏有哥哥的秘密日记，是揭开真相的重要场所。', name_embedding=None, description_embedding=None, text_unit_ids=[5]),\n",
       "  Entity(entity_name='双胞胎秘密', entity_type='概念', entity_description='双胞胎秘密是贯穿全书的核心概念，指林墨与林夜实为双胞胎兄妹，其中一人（林小雨）在出生后被秘密抱走，与林墨身份密切相关，是推动情节发展的核心谜题。', name_embedding=None, description_embedding=None, text_unit_ids=[6]),\n",
       "  Entity(entity_name='基因缺陷', entity_type='概念', entity_description='基因缺陷是当年被用来解释双胞胎中一人被抱走的医学理由，由青山精神病院刘院长提出，成为掩盖真相的借口，是故事中被质疑的伪概念。', name_embedding=None, description_embedding=None, text_unit_ids=[7]),\n",
       "  Entity(entity_name='私人日记', entity_type='概念', entity_description='私人日记是林夜藏于画架暗格中的记录本，内容涉及他对双胞胎秘密的认知、对姐姐的追寻以及对自身身份的困惑，是揭示真相的关键物证。', name_embedding=None, description_embedding=None, text_unit_ids=[8])],\n",
       " [Relation(source_entity='林墨', target_entity='林夜', relationship_description='林墨与林夜是亲兄妹，且为双胞胎，关系强度为高，方向为双向情感依附。林墨对林夜的失踪抱有强烈情感，林夜则在失踪前已知晓双胞胎秘密并试图追寻真相。', relationship_strength=9, description_embedding=None, text_unit_ids=[0], weight=1.0, rank=1),\n",
       "  Relation(source_entity='陈远', target_entity='林墨', relationship_description='陈远与林墨是恋人关系，关系强度为高，方向为单向支持与双向依赖。陈远在林墨情绪崩溃时提供情感支持，同时林墨依赖陈远的调查能力推进案件。', relationship_strength=8, description_embedding=None, text_unit_ids=[1], weight=1.0, rank=1),\n",
       "  Relation(source_entity='陈远', target_entity='林夜', relationship_description='陈远与林夜是同事与调查伙伴关系，关系强度为中等，方向为单向信息传递。陈远通过调查发现林夜的行踪与青山精神病院的关联，但林夜已失踪，无法直接互动。', relationship_strength=6, description_embedding=None, text_unit_ids=[2], weight=1.0, rank=1),\n",
       "  Relation(source_entity='王德明', target_entity='林墨', relationship_description='王德明与林墨是医患与知情者关系，关系强度为高，方向为单向揭示。王德明掌握林墨身世真相，主动向林墨揭示其双胞胎身份，是关键信息的传递者。', relationship_strength=9, description_embedding=None, text_unit_ids=[3], weight=1.0, rank=1),\n",
       "  Relation(source_entity='林夜', target_entity='青山精神病院', relationship_description='青山精神病院与林夜存在行为关联，关系强度为高，方向为单向访问。林夜在失踪前一周曾三次前往该地，是其失踪前的关键活动轨迹。', relationship_strength=8, description_embedding=None, text_unit_ids=[4], weight=1.0, rank=1),\n",
       "  Relation(source_entity='青山精神病院', target_entity='双胞胎秘密', relationship_description='青山精神病院与双胞胎秘密存在历史关联，关系强度为高，方向为单向承载。该精神病院是当年双胞胎中一人被抱走的场所，是秘密的物理与制度载体。', relationship_strength=9, description_embedding=None, text_unit_ids=[5], weight=1.0, rank=1),\n",
       "  Relation(source_entity='私人日记', target_entity='双胞胎秘密', relationship_description='私人日记与双胞胎秘密存在内容关联，关系强度为高，方向为单向揭示。日记中记录了林夜对双胞胎身份的认知与追寻，是揭开秘密的核心文本证据。', relationship_strength=9, description_embedding=None, text_unit_ids=[6], weight=1.0, rank=1),\n",
       "  Relation(source_entity='基因缺陷', target_entity='双胞胎秘密', relationship_description='基因缺陷与双胞胎秘密存在逻辑关联，关系强度为中等，方向为单向解释。该概念被用作当年抱走孩子的借口，但其真实性被怀疑，是掩盖真相的伪概念。', relationship_strength=6, description_embedding=None, text_unit_ids=[7], weight=1.0, rank=1),\n",
       "  Relation(source_entity='林夜的工作室', target_entity='私人日记', relationship_description='林夜的工作室与私人日记存在空间与物证关联，关系强度为高，方向为单向存储。日记被藏于工作室的画架暗格中，是林夜生前秘密保存的证据。', relationship_strength=8, description_embedding=None, text_unit_ids=[8], weight=1.0, rank=1)])"
      ]
     },
     "execution_count": 12,
     "metadata": {},
     "output_type": "execute_result"
    }
   ],
   "source": [
    "entities,relations"
   ]
  },
  {
   "cell_type": "code",
   "execution_count": 13,
   "id": "fa188a80",
   "metadata": {},
   "outputs": [
    {
     "data": {
      "text/plain": [
       "(True, True)"
      ]
     },
     "execution_count": 13,
     "metadata": {},
     "output_type": "execute_result"
    }
   ],
   "source": [
    "gdb.create_entities_batch(entities),gdb.create_relations_batch(relations)"
   ]
  }
 ],
 "metadata": {
  "kernelspec": {
   "display_name": "base",
   "language": "python",
   "name": "python3"
  },
  "language_info": {
   "codemirror_mode": {
    "name": "ipython",
    "version": 3
   },
   "file_extension": ".py",
   "mimetype": "text/x-python",
   "name": "python",
   "nbconvert_exporter": "python",
   "pygments_lexer": "ipython3",
   "version": "3.12.9"
  }
 },
 "nbformat": 4,
 "nbformat_minor": 5
}
