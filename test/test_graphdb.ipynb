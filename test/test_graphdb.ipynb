{
 "cells": [
  {
   "cell_type": "code",
   "execution_count": 3,
   "id": "c1a67697",
   "metadata": {},
   "outputs": [],
   "source": [
    "import sys\n",
    "import os\n",
    "# 添加项目根目录到Python路径\n",
    "sys.path.insert(0, os.path.join(os.getcwd(), '..'))"
   ]
  },
  {
   "cell_type": "code",
   "execution_count": 4,
   "id": "08b2101b",
   "metadata": {},
   "outputs": [
    {
     "name": "stderr",
     "output_type": "stream",
     "text": [
      "Received notification from DBMS server: {severity: WARNING} {code: Neo.ClientNotification.Statement.UnknownPropertyKeyWarning} {category: UNRECOGNIZED} {title: The provided property key is not in the database} {description: One of the property names in your query is not available in the database, make sure you didn't misspell it or that the label is available when you run this statement in your application (the missing property name is: description_embedding)} {position: line: 7, column: 22, offset: 380} for query: '\\n            MATCH (a:Entity)-[r:RELATED_TO]->(b:Entity)\\n            RETURN a.entity_name as source_name, a.entity_type as source_type,\\n                   b.entity_name as target_name, b.entity_type as target_type,\\n                   r.relationship_description as relationship_description,\\n                   r.relationship_strength as relationship_strength,\\n                   r.description_embedding as description_embedding,\\n                   r.text_unit_ids as text_unit_ids,\\n                   r.weight as weight,\\n                   r.rank as rank\\n            '\n",
      "Received notification from DBMS server: {severity: WARNING} {code: Neo.ClientNotification.Statement.UnknownPropertyKeyWarning} {category: UNRECOGNIZED} {title: The provided property key is not in the database} {description: One of the property names in your query is not available in the database, make sure you didn't misspell it or that the label is available when you run this statement in your application (the missing property name is: description_embedding)} {position: line: 7, column: 22, offset: 380} for query: '\\n            MATCH (a:Entity)-[r:RELATED_TO]->(b:Entity)\\n            RETURN a.entity_name as source_name, a.entity_type as source_type,\\n                   b.entity_name as target_name, b.entity_type as target_type,\\n                   r.relationship_description as relationship_description,\\n                   r.relationship_strength as relationship_strength,\\n                   r.description_embedding as description_embedding,\\n                   r.text_unit_ids as text_unit_ids,\\n                   r.weight as weight,\\n                   r.rank as rank\\n            '\n"
     ]
    },
    {
     "name": "stdout",
     "output_type": "stream",
     "text": [
      "连接成功！\n",
      "=== 所有实体 ===\n",
      "张三 (Person): 软件工程师\n",
      "李四 (Person): 产品经理\n",
      "王五 (Company): 科技公司\n",
      "\n",
      "=== 所有关系 ===\n",
      "[{'source_name': '张三', 'source_type': 'Person', 'target_name': '李四', 'target_type': 'Person', 'relationship_description': '同事关系', 'relationship_strength': 8, 'description_embedding': None, 'text_unit_ids': None, 'weight': 1.0, 'rank': 1}, {'source_name': '张三', 'source_type': 'Person', 'target_name': '王五', 'target_type': 'Company', 'relationship_description': '工作关系', 'relationship_strength': 7, 'description_embedding': None, 'text_unit_ids': None, 'weight': 1.0, 'rank': 1}]\n",
      "\n",
      "数据已导出到 graph_data.json\n",
      "数据库连接已关闭\n"
     ]
    }
   ],
   "source": [
    "from settings.config import GraphConfig\n",
    "from utils.graphDB import graphDB\n",
    "from settings.schema import Entity, Relation\n",
    "\n",
    "# 1. 初始化连接\n",
    "config = GraphConfig()\n",
    "\n",
    "db = graphDB(config)\n",
    "db.clear_database()\n",
    "try:\n",
    "    # 2. 清空数据库（可选）\n",
    "    db.clear_database()\n",
    "    \n",
    "    # 3. 创建实体\n",
    "    entities = [\n",
    "        Entity(\n",
    "            entity_name=\"张三\",\n",
    "            entity_type=\"Person\",\n",
    "            entity_description=\"软件工程师\"\n",
    "        ),\n",
    "        Entity(\n",
    "            entity_name=\"李四\",\n",
    "            entity_type=\"Person\",\n",
    "            entity_description=\"产品经理\"\n",
    "        ),\n",
    "        Entity(\n",
    "            entity_name=\"王五\",\n",
    "            entity_type=\"Company\",\n",
    "            entity_description=\"科技公司\"\n",
    "        )\n",
    "    ]\n",
    "    \n",
    "    db.create_entities_batch(entities)\n",
    "    \n",
    "    # 4. 创建关系\n",
    "    relations = [\n",
    "        Relation(\n",
    "            source_entity=\"张三\",\n",
    "            target_entity=\"李四\",\n",
    "            relationship_description=\"同事关系\",\n",
    "            relationship_strength=8\n",
    "        ),\n",
    "        Relation(\n",
    "            source_entity=\"张三\",\n",
    "            target_entity=\"王五\",\n",
    "            relationship_description=\"工作关系\",\n",
    "            relationship_strength=7\n",
    "        )\n",
    "    ]\n",
    "    \n",
    "    db.create_relations_batch(relations)\n",
    "    \n",
    "    # 5. 查询数据\n",
    "    print(\"=== 所有实体 ===\")\n",
    "    all_entities = db.get_all_entities()\n",
    "    for entity in all_entities:\n",
    "        props = entity['n']\n",
    "        print(f\"{props['entity_name']} ({props['entity_type']}): {props['entity_description']}\")\n",
    "    \n",
    "    print(\"\\n=== 所有关系 ===\")\n",
    "    all_relations = db.get_all_relations()\n",
    "    print(all_relations)\n",
    "    # 6. 导出数据\n",
    "    db.export_to_json(\"graph_data.json\")\n",
    "    print(\"\\n数据已导出到 graph_data.json\")\n",
    "    \n",
    "finally:\n",
    "    # 7. 关闭连接\n",
    "    db.close()"
   ]
  }
 ],
 "metadata": {
  "kernelspec": {
   "display_name": "base",
   "language": "python",
   "name": "python3"
  },
  "language_info": {
   "codemirror_mode": {
    "name": "ipython",
    "version": 3
   },
   "file_extension": ".py",
   "mimetype": "text/x-python",
   "name": "python",
   "nbconvert_exporter": "python",
   "pygments_lexer": "ipython3",
   "version": "3.12.9"
  }
 },
 "nbformat": 4,
 "nbformat_minor": 5
}
