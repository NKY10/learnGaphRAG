{
 "cells": [
  {
   "cell_type": "code",
   "execution_count": 1,
   "id": "05022322",
   "metadata": {},
   "outputs": [
    {
     "name": "stdout",
     "output_type": "stream",
     "text": [
      "已连接到向量数据库./chroma\n"
     ]
    }
   ],
   "source": [
    "from utils.vectorDB import vectorDB\n",
    "from core.config import ChromaConfig, EmbeddingConfig\n",
    "from langchain.schema import Document\n",
    "vdb = vectorDB(ChromaConfig(), EmbeddingConfig())\n"
   ]
  },
  {
   "cell_type": "code",
   "execution_count": 2,
   "id": "7253a068",
   "metadata": {},
   "outputs": [
    {
     "name": "stdout",
     "output_type": "stream",
     "text": [
      "已删除向量数据库./chroma\n"
     ]
    }
   ],
   "source": [
    "vdb.delete()"
   ]
  },
  {
   "cell_type": "code",
   "execution_count": 3,
   "id": "a1de5b83",
   "metadata": {},
   "outputs": [
    {
     "name": "stdout",
     "output_type": "stream",
     "text": [
      "向量数据库./chroma不存在\n"
     ]
    },
    {
     "ename": "FileNotFoundError",
     "evalue": "向量数据库./chroma不存在",
     "output_type": "error",
     "traceback": [
      "\u001b[31m---------------------------------------------------------------------------\u001b[39m",
      "\u001b[31mFileNotFoundError\u001b[39m                         Traceback (most recent call last)",
      "\u001b[36mCell\u001b[39m\u001b[36m \u001b[39m\u001b[32mIn[3]\u001b[39m\u001b[32m, line 1\u001b[39m\n\u001b[32m----> \u001b[39m\u001b[32m1\u001b[39m \u001b[43mvdb\u001b[49m\u001b[43m.\u001b[49m\u001b[43msearch\u001b[49m\u001b[43m(\u001b[49m\u001b[33;43m\"\u001b[39;49m\u001b[33;43m煎饼果子\u001b[39;49m\u001b[33;43m\"\u001b[39;49m\u001b[43m)\u001b[49m\n",
      "\u001b[36mFile \u001b[39m\u001b[32m/Volumes/sn580/projects/remakeGraphrag/utils/vectorDB.py:53\u001b[39m, in \u001b[36mvectorDB.search\u001b[39m\u001b[34m(self, query, k)\u001b[39m\n\u001b[32m     51\u001b[39m \u001b[38;5;250m\u001b[39m\u001b[33;03m\"\"\"搜索向量数据库\"\"\"\u001b[39;00m\n\u001b[32m     52\u001b[39m \u001b[38;5;28;01mif\u001b[39;00m \u001b[38;5;129;01mnot\u001b[39;00m \u001b[38;5;28mself\u001b[39m._check_available():\n\u001b[32m---> \u001b[39m\u001b[32m53\u001b[39m     \u001b[38;5;28;01mraise\u001b[39;00m \u001b[38;5;167;01mFileNotFoundError\u001b[39;00m(\u001b[33mf\u001b[39m\u001b[33m\"\u001b[39m\u001b[33m向量数据库\u001b[39m\u001b[38;5;132;01m{\u001b[39;00m\u001b[38;5;28mself\u001b[39m.persist_directory\u001b[38;5;132;01m}\u001b[39;00m\u001b[33m不存在\u001b[39m\u001b[33m\"\u001b[39m)\n\u001b[32m     54\u001b[39m \u001b[38;5;28;01mreturn\u001b[39;00m \u001b[38;5;28mself\u001b[39m.vectorstore.similarity_search(query, k=k)\n",
      "\u001b[31mFileNotFoundError\u001b[39m: 向量数据库./chroma不存在"
     ]
    }
   ],
   "source": [
    "vdb.search(\"煎饼果子\")"
   ]
  },
  {
   "cell_type": "code",
   "execution_count": 4,
   "id": "87de9305",
   "metadata": {},
   "outputs": [],
   "source": [
    "docs = [\n",
    "    Document(\n",
    "        page_content=\"这是一个文档\",\n",
    "        metadata={\"id\": 11434}\n",
    "    )\n",
    "]\n"
   ]
  },
  {
   "cell_type": "code",
   "execution_count": 5,
   "id": "a8ccb4b1",
   "metadata": {},
   "outputs": [
    {
     "name": "stdout",
     "output_type": "stream",
     "text": [
      "已创建向量数据库./chroma\n"
     ]
    }
   ],
   "source": [
    "vdb.create(docs)"
   ]
  },
  {
   "cell_type": "code",
   "execution_count": 6,
   "id": "58227be6",
   "metadata": {},
   "outputs": [
    {
     "data": {
      "text/plain": [
       "[Document(id='95a752fe-0321-464d-ac5c-bde2f11856ac', metadata={'id': 11434}, page_content='这是一个文档')]"
      ]
     },
     "execution_count": 6,
     "metadata": {},
     "output_type": "execute_result"
    }
   ],
   "source": [
    "vdb.search(\"文档\")"
   ]
  },
  {
   "cell_type": "code",
   "execution_count": 7,
   "id": "2518a34f",
   "metadata": {},
   "outputs": [
    {
     "name": "stdout",
     "output_type": "stream",
     "text": [
      "已添加文档到向量数据库./chroma\n"
     ]
    }
   ],
   "source": [
    "vdb.add_documents(\n",
    "    [\n",
    "        Document(\n",
    "            page_content=\"鸡蛋灌饼\",\n",
    "            metadata={\"id\": 7860}\n",
    "        )\n",
    "    ]\n",
    ")"
   ]
  },
  {
   "cell_type": "code",
   "execution_count": 8,
   "id": "bba33d75",
   "metadata": {},
   "outputs": [
    {
     "data": {
      "text/plain": [
       "[Document(id='6629cf3b-5fc5-4623-941b-c3e8919d7079', metadata={'id': 7860}, page_content='鸡蛋灌饼')]"
      ]
     },
     "execution_count": 8,
     "metadata": {},
     "output_type": "execute_result"
    }
   ],
   "source": [
    "vdb.search(\"煎饼果子\",k=1)"
   ]
  }
 ],
 "metadata": {
  "kernelspec": {
   "display_name": "lang",
   "language": "python",
   "name": "python3"
  },
  "language_info": {
   "codemirror_mode": {
    "name": "ipython",
    "version": 3
   },
   "file_extension": ".py",
   "mimetype": "text/x-python",
   "name": "python",
   "nbconvert_exporter": "python",
   "pygments_lexer": "ipython3",
   "version": "3.11.11"
  }
 },
 "nbformat": 4,
 "nbformat_minor": 5
}
